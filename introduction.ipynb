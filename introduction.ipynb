{
 "cells": [
  {
   "cell_type": "markdown",
   "id": "f3991498-550c-4ffe-9be5-27fc11356426",
   "metadata": {},
   "source": [
    "## Introduction to Artificial Intelligence Practical Class\n"
   ]
  },
  {
   "cell_type": "code",
   "execution_count": 1,
   "id": "9a7dc80c-93d0-40a8-a4df-6059e3f47ffd",
   "metadata": {},
   "outputs": [],
   "source": [
    "setvar = 43\n",
    "thirdvar = 90.0\n",
    "lastvar = \"hello worlds\""
   ]
  },
  {
   "cell_type": "code",
   "execution_count": 2,
   "id": "12fcd84c-fdb5-417f-91d1-f9d846534b78",
   "metadata": {},
   "outputs": [
    {
     "name": "stdout",
     "output_type": "stream",
     "text": [
      "<class 'int'>\n",
      "<class 'float'>\n",
      "<class 'str'>\n"
     ]
    }
   ],
   "source": [
    "print(type(setvar))\n",
    "print(type(thirdvar))\n",
    "print(type(lastvar))"
   ]
  },
  {
   "cell_type": "code",
   "execution_count": 3,
   "id": "e370a576-beb6-4b74-bedc-8728dbd37e3d",
   "metadata": {},
   "outputs": [
    {
     "name": "stdout",
     "output_type": "stream",
     "text": [
      "Your age is: 20\n"
     ]
    }
   ],
   "source": [
    "currentYear = 2023\n",
    "yearOfBirth = 2003\n",
    "age = currentYear - yearOfBirth\n",
    "print(\"Your age is:\",age)"
   ]
  },
  {
   "cell_type": "code",
   "execution_count": 6,
   "id": "7b1945e6-1e09-4ffc-afdc-0d5cb2408444",
   "metadata": {},
   "outputs": [
    {
     "name": "stdin",
     "output_type": "stream",
     "text": [
      "Enter your age: 23\n"
     ]
    }
   ],
   "source": [
    "age = int(input(\"Enter your age:\"))"
   ]
  },
  {
   "cell_type": "code",
   "execution_count": 7,
   "id": "b710dc6f-7b32-44d5-8fbf-8276ab94fd7c",
   "metadata": {},
   "outputs": [
    {
     "name": "stdout",
     "output_type": "stream",
     "text": [
      "23\n"
     ]
    }
   ],
   "source": [
    "print(age)"
   ]
  },
  {
   "cell_type": "markdown",
   "id": "8e13251f-620b-428d-9b65-5bac8471a419",
   "metadata": {},
   "source": [
    "### Class assignment"
   ]
  },
  {
   "cell_type": "code",
   "execution_count": null,
   "id": "5e4aeb59-6849-4558-a8af-d1cdeebfae47",
   "metadata": {},
   "outputs": [],
   "source": [
    "name = str(input(\"Enter your name:\"))\n",
    "age = int(input(\"Enter your age:\"))"
   ]
  },
  {
   "cell_type": "code",
   "execution_count": 24,
   "id": "a36a2af6-19a8-465b-a4e2-85b19d8732f5",
   "metadata": {},
   "outputs": [
    {
     "name": "stdout",
     "output_type": "stream",
     "text": [
      "Hello sijibomi , you are 20 years old.\n"
     ]
    }
   ],
   "source": [
    "print(\"Hello\", name, \", you are\", age, \"years old.\" )"
   ]
  }
 ],
 "metadata": {
  "kernelspec": {
   "display_name": "Python 3 (ipykernel)",
   "language": "python",
   "name": "python3"
  },
  "language_info": {
   "codemirror_mode": {
    "name": "ipython",
    "version": 3
   },
   "file_extension": ".py",
   "mimetype": "text/x-python",
   "name": "python",
   "nbconvert_exporter": "python",
   "pygments_lexer": "ipython3",
   "version": "3.11.5"
  }
 },
 "nbformat": 4,
 "nbformat_minor": 5
}
