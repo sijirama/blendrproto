{
 "cells": [
  {
   "cell_type": "markdown",
   "id": "bda67d53-2dc6-4174-b907-54cf8ec26c7e",
   "metadata": {},
   "source": [
    "### Assignment\n",
    "Ilesanmi Oluwasijibomi"
   ]
  },
  {
   "cell_type": "code",
   "execution_count": 6,
   "id": "ebee7aef",
   "metadata": {},
   "outputs": [],
   "source": [
    "def reverseString(string:str):\n",
    "   newString = string[::-1]\n",
    "   return newString\n",
    "    "
   ]
  },
  {
   "cell_type": "code",
   "execution_count": 7,
   "id": "a0ac2b5a",
   "metadata": {},
   "outputs": [
    {
     "name": "stdin",
     "output_type": "stream",
     "text": [
      "Whats your name:  blurry\n"
     ]
    },
    {
     "data": {
      "text/plain": [
       "'yrrulb'"
      ]
     },
     "execution_count": 7,
     "metadata": {},
     "output_type": "execute_result"
    }
   ],
   "source": [
    "string = input(\"Whats your name: \")\n",
    "reverseString(string)"
   ]
  },
  {
   "cell_type": "code",
   "execution_count": 8,
   "id": "3c6d5417",
   "metadata": {},
   "outputs": [],
   "source": [
    "def removeDuplicate(x:list):\n",
    "    newList = list(set(x))\n",
    "    return newList"
   ]
  },
  {
   "cell_type": "code",
   "execution_count": 9,
   "id": "8199a925",
   "metadata": {},
   "outputs": [
    {
     "data": {
      "text/plain": [
       "[1, 2, 3, 4, 5]"
      ]
     },
     "execution_count": 9,
     "metadata": {},
     "output_type": "execute_result"
    }
   ],
   "source": [
    "x = [1,2,2,3,3,4,4,5,5]\n",
    "removeDuplicate(x)"
   ]
  },
  {
   "cell_type": "code",
   "execution_count": 17,
   "id": "9c1423a7",
   "metadata": {},
   "outputs": [],
   "source": [
    "def longestWord(string):\n",
    "    words = string.split()\n",
    "    longest_string = \"\"\n",
    "    length = 0\n",
    "    for word in words:\n",
    "        if len(word) > length:\n",
    "            longest_string = word\n",
    "            length = len(longest_string)\n",
    "    return longest_string        "
   ]
  },
  {
   "cell_type": "code",
   "execution_count": 20,
   "id": "8afb4632",
   "metadata": {},
   "outputs": [
    {
     "data": {
      "text/plain": [
       "'programming'"
      ]
     },
     "execution_count": 20,
     "metadata": {},
     "output_type": "execute_result"
    }
   ],
   "source": [
    "x = \"Python is a cool programming language\"\n",
    "\n",
    "longestWord(x)"
   ]
  },
  {
   "cell_type": "code",
   "execution_count": 30,
   "id": "30a3711c",
   "metadata": {},
   "outputs": [],
   "source": [
    "def palindrome(string):\n",
    "    #split_string = string.split()\n",
    "    #string = \"\".join(split_string)\n",
    "    if string == string[::-1]:\n",
    "        return \"This word is a palindrome\"\n",
    "    else:\n",
    "        return \"This word is not a palindrome\""
   ]
  },
  {
   "cell_type": "code",
   "execution_count": 32,
   "id": "ef14de10",
   "metadata": {},
   "outputs": [
    {
     "data": {
      "text/plain": [
       "'This word is a palindrome'"
      ]
     },
     "execution_count": 32,
     "metadata": {},
     "output_type": "execute_result"
    }
   ],
   "source": [
    "x = \"madam\"\n",
    "palindrome(x)"
   ]
  },
  {
   "cell_type": "code",
   "execution_count": 10,
   "id": "66629729",
   "metadata": {},
   "outputs": [
    {
     "name": "stdout",
     "output_type": "stream",
     "text": [
      "Compressed String: a3b4c2d5\n"
     ]
    }
   ],
   "source": [
    "def compress_string(input_string):\n",
    "    compressed_string = \"\"\n",
    "    count = 1\n",
    "    \n",
    "\n",
    "    for i in range(1, len(input_string)):\n",
    "        if input_string[i] == input_string[i - 1]:\n",
    "            count += 1\n",
    "        else:\n",
    "            compressed_string += input_string[i - 1] + str(count)\n",
    "            count = 1\n",
    "    \n",
    "    compressed_string += input_string[-1] + str(count)\n",
    "    \n",
    "    return compressed_string\n",
    "\n",
    "\n",
    "input_string = \"aaabbbbccddddd\"\n",
    "compressed_output = compress_string(input_string)\n",
    "print(\"Compressed String:\", compressed_output)\n",
    "\n",
    "    "
   ]
  },
  {
   "cell_type": "code",
   "execution_count": 12,
   "id": "9d5ebbec",
   "metadata": {},
   "outputs": [
    {
     "name": "stdout",
     "output_type": "stream",
     "text": [
      "Flattened List: [1, 2, 3, 4, 5, 6]\n"
     ]
    }
   ],
   "source": [
    "def flatten_list(nested_list):\n",
    "    flattened_list = []\n",
    "    \n",
    "\n",
    "    def flatten(nested):\n",
    "        for item in nested:\n",
    "            if isinstance(item, list):\n",
    "                flatten(item)\n",
    "            else:\n",
    "                flattened_list.append(item)\n",
    "    \n",
    "    flatten(nested_list)\n",
    "    return flattened_list\n",
    "\n",
    "\n",
    "nested_list = [[1, 2], [3, [4, 5]], 6]\n",
    "flattened_output = flatten_list(nested_list)\n",
    "print(\"Flattened List:\", flattened_output)\n"
   ]
  },
  {
   "cell_type": "code",
   "execution_count": 14,
   "id": "bc626a13",
   "metadata": {},
   "outputs": [
    {
     "name": "stdout",
     "output_type": "stream",
     "text": [
      "Chunked List: [[1, 2], [3, 4], [5]]\n"
     ]
    }
   ],
   "source": [
    "def chunk_list(input_list, chunk_size):\n",
    "    chunked_list = []\n",
    "    \n",
    "    \n",
    "    for i in range(0, len(input_list), chunk_size):\n",
    "       \n",
    "        chunk = input_list[i:i + chunk_size]\n",
    "        \n",
    "        chunked_list.append(chunk)\n",
    "    \n",
    "    return chunked_list\n",
    "\n",
    "\n",
    "input_list = [1, 2, 3, 4, 5]\n",
    "chunk_size = 2\n",
    "chunked_output = chunk_list(input_list, chunk_size)\n",
    "print(\"Chunked List:\", chunked_output)\n"
   ]
  }
 ],
 "metadata": {
  "kernelspec": {
   "display_name": "Python 3 (ipykernel)",
   "language": "python",
   "name": "python3"
  },
  "language_info": {
   "codemirror_mode": {
    "name": "ipython",
    "version": 3
   },
   "file_extension": ".py",
   "mimetype": "text/x-python",
   "name": "python",
   "nbconvert_exporter": "python",
   "pygments_lexer": "ipython3",
   "version": "3.11.5"
  }
 },
 "nbformat": 4,
 "nbformat_minor": 5
}
