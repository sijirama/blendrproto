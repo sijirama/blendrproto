{
 "cells": [
  {
   "cell_type": "code",
   "execution_count": 1,
   "id": "afb35969-5a55-4058-9d3d-5252f6a70e67",
   "metadata": {},
   "outputs": [
    {
     "name": "stdout",
     "output_type": "stream",
     "text": [
      "Requirement already satisfied: gTTS in c:\\users\\gbemi\\appdata\\local\\programs\\python\\python311\\lib\\site-packages (2.4.0)Note: you may need to restart the kernel to use updated packages.\n",
      "\n",
      "Requirement already satisfied: requests<3,>=2.27 in c:\\users\\gbemi\\appdata\\local\\programs\\python\\python311\\lib\\site-packages (from gTTS) (2.31.0)\n",
      "Requirement already satisfied: click<8.2,>=7.1 in c:\\users\\gbemi\\appdata\\local\\programs\\python\\python311\\lib\\site-packages (from gTTS) (8.1.7)\n",
      "Requirement already satisfied: colorama in c:\\users\\gbemi\\appdata\\local\\programs\\python\\python311\\lib\\site-packages (from click<8.2,>=7.1->gTTS) (0.4.6)\n",
      "Requirement already satisfied: charset-normalizer<4,>=2 in c:\\users\\gbemi\\appdata\\local\\programs\\python\\python311\\lib\\site-packages (from requests<3,>=2.27->gTTS) (3.2.0)\n",
      "Requirement already satisfied: idna<4,>=2.5 in c:\\users\\gbemi\\appdata\\local\\programs\\python\\python311\\lib\\site-packages (from requests<3,>=2.27->gTTS) (3.4)\n",
      "Requirement already satisfied: urllib3<3,>=1.21.1 in c:\\users\\gbemi\\appdata\\local\\programs\\python\\python311\\lib\\site-packages (from requests<3,>=2.27->gTTS) (2.0.4)\n",
      "Requirement already satisfied: certifi>=2017.4.17 in c:\\users\\gbemi\\appdata\\local\\programs\\python\\python311\\lib\\site-packages (from requests<3,>=2.27->gTTS) (2023.7.22)\n"
     ]
    }
   ],
   "source": [
    "pip install gTTS"
   ]
  },
  {
   "cell_type": "code",
   "execution_count": 3,
   "id": "3a59b2cd-384d-472d-8911-4bf7f9015231",
   "metadata": {},
   "outputs": [],
   "source": [
    "from gtts import gTTS"
   ]
  },
  {
   "cell_type": "code",
   "execution_count": 5,
   "id": "89367b4d-9ac4-4300-b773-0201248f34b4",
   "metadata": {},
   "outputs": [],
   "source": [
    "tts = gTTS('Hello, my name is oluwasijibomi')\n",
    "tts.save('hello.mp3')"
   ]
  }
 ],
 "metadata": {
  "kernelspec": {
   "display_name": "Python 3 (ipykernel)",
   "language": "python",
   "name": "python3"
  },
  "language_info": {
   "codemirror_mode": {
    "name": "ipython",
    "version": 3
   },
   "file_extension": ".py",
   "mimetype": "text/x-python",
   "name": "python",
   "nbconvert_exporter": "python",
   "pygments_lexer": "ipython3",
   "version": "3.11.5"
  }
 },
 "nbformat": 4,
 "nbformat_minor": 5
}
